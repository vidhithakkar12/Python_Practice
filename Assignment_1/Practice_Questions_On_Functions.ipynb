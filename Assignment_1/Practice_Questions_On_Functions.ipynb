{
 "cells": [
  {
   "cell_type": "markdown",
   "metadata": {
    "id": "Gd3ub2NnNUMY"
   },
   "source": [
    "**1. Write a function that inputs a number and prints the multiplication table of that number**"
   ]
  },
  {
   "cell_type": "code",
   "execution_count": 1,
   "metadata": {
    "id": "c5UPKOhbNXDs"
   },
   "outputs": [],
   "source": [
    "def mul(a):\n",
    "    for i in range(11):\n",
    "        answer = a*i\n",
    "        print(str(a) + \" x \" + str(i) + \" = \" + str(answer))"
   ]
  },
  {
   "cell_type": "code",
   "execution_count": 2,
   "metadata": {
    "colab": {
     "base_uri": "https://localhost:8080/"
    },
    "id": "eOpX4ikwOfGb",
    "outputId": "1243059a-950c-4a27-d52b-04e3d5851af7"
   },
   "outputs": [
    {
     "name": "stdout",
     "output_type": "stream",
     "text": [
      "Enter a number: 45\n",
      "The multiplication table of 45 is as follows: \n",
      "45 x 0 = 0\n",
      "45 x 1 = 45\n",
      "45 x 2 = 90\n",
      "45 x 3 = 135\n",
      "45 x 4 = 180\n",
      "45 x 5 = 225\n",
      "45 x 6 = 270\n",
      "45 x 7 = 315\n",
      "45 x 8 = 360\n",
      "45 x 9 = 405\n",
      "45 x 10 = 450\n"
     ]
    }
   ],
   "source": [
    "num = int(input(\"Enter a number: \"))\n",
    "print(\"The multiplication table of {} is as follows: \".format(num))\n",
    "mul(num)"
   ]
  },
  {
   "cell_type": "markdown",
   "metadata": {
    "id": "_rLhdG8ZQsGs"
   },
   "source": [
    "**2. Write a program to print twin primes less than 1000. If two consecutive odd numbers are both prime then they are known as twin primes**"
   ]
  },
  {
   "cell_type": "code",
   "execution_count": 3,
   "metadata": {
    "id": "jRPkWWZtVlCb"
   },
   "outputs": [
    {
     "name": "stdout",
     "output_type": "stream",
     "text": [
      "[2, 3, 5, 7, 11, 13, 17, 19, 23, 29, 31, 37, 41, 43, 47, 53, 59, 61, 67, 71, 73, 79, 83, 89, 97, 101, 103, 107, 109, 113, 127, 131, 137, 139, 149, 151, 157, 163, 167, 173, 179, 181, 191, 193, 197, 199, 211, 223, 227, 229, 233, 239, 241, 251, 257, 263, 269, 271, 277, 281, 283, 293, 307, 311, 313, 317, 331, 337, 347, 349, 353, 359, 367, 373, 379, 383, 389, 397, 401, 409, 419, 421, 431, 433, 439, 443, 449, 457, 461, 463, 467, 479, 487, 491, 499, 503, 509, 521, 523, 541, 547, 557, 563, 569, 571, 577, 587, 593, 599, 601, 607, 613, 617, 619, 631, 641, 643, 647, 653, 659, 661, 673, 677, 683, 691, 701, 709, 719, 727, 733, 739, 743, 751, 757, 761, 769, 773, 787, 797, 809, 811, 821, 823, 827, 829, 839, 853, 857, 859, 863, 877, 881, 883, 887, 907, 911, 919, 929, 937, 941, 947, 953, 967, 971, 977, 983, 991, 997]\n"
     ]
    }
   ],
   "source": [
    "# Calculate prime numbers between 1 and 1000\n",
    "lst = []\n",
    "for num in range(1,1000):\n",
    "    if num > 1:\n",
    "        isDivisible = False;\n",
    "        for index in range(2,num):\n",
    "            if num % index == 0:\n",
    "                isDivisible = True\n",
    "        if not isDivisible:\n",
    "            lst.append(num)\n",
    "print(lst)"
   ]
  },
  {
   "cell_type": "code",
   "execution_count": 4,
   "metadata": {
    "id": "fEF3EwPOdr3y"
   },
   "outputs": [],
   "source": [
    "# Twin primes are those numbers which have a difference of two ( 2 ) between two consecutive prime numbers.\n",
    "def twin_prime(a):\n",
    "    index = 0\n",
    "    tup = ()\n",
    "    final_result = []\n",
    "    while (index + 1) < len(a):\n",
    "        if (a[index+1] - a[index]) == 2:\n",
    "            tup = (a[index], a[index+1])\n",
    "            final_result.append(tup)\n",
    "        index+=1\n",
    "    return final_result"
   ]
  },
  {
   "cell_type": "code",
   "execution_count": 5,
   "metadata": {
    "colab": {
     "base_uri": "https://localhost:8080/"
    },
    "id": "UHQv315YeUc5",
    "outputId": "8bad1f02-edc8-4b46-9af9-41759ab45219"
   },
   "outputs": [
    {
     "name": "stdout",
     "output_type": "stream",
     "text": [
      "Twin prime numbers less than 1000 are: \n"
     ]
    },
    {
     "data": {
      "text/plain": [
       "[(3, 5),\n",
       " (5, 7),\n",
       " (11, 13),\n",
       " (17, 19),\n",
       " (29, 31),\n",
       " (41, 43),\n",
       " (59, 61),\n",
       " (71, 73),\n",
       " (101, 103),\n",
       " (107, 109),\n",
       " (137, 139),\n",
       " (149, 151),\n",
       " (179, 181),\n",
       " (191, 193),\n",
       " (197, 199),\n",
       " (227, 229),\n",
       " (239, 241),\n",
       " (269, 271),\n",
       " (281, 283),\n",
       " (311, 313),\n",
       " (347, 349),\n",
       " (419, 421),\n",
       " (431, 433),\n",
       " (461, 463),\n",
       " (521, 523),\n",
       " (569, 571),\n",
       " (599, 601),\n",
       " (617, 619),\n",
       " (641, 643),\n",
       " (659, 661),\n",
       " (809, 811),\n",
       " (821, 823),\n",
       " (827, 829),\n",
       " (857, 859),\n",
       " (881, 883)]"
      ]
     },
     "execution_count": 5,
     "metadata": {},
     "output_type": "execute_result"
    }
   ],
   "source": [
    "print(\"Twin prime numbers less than 1000 are: \")\n",
    "twin_prime(lst)"
   ]
  },
  {
   "cell_type": "markdown",
   "metadata": {
    "id": "Ah3EpaDmPufj"
   },
   "source": [
    "**3. Write a program to find out the prime factors of a number. Example: prime factors of 56 - 2, 2, 2, 7**"
   ]
  },
  {
   "cell_type": "code",
   "execution_count": null,
   "metadata": {
    "id": "a44-yzOMKBLV"
   },
   "outputs": [],
   "source": [
    "# Not Attemped"
   ]
  },
  {
   "cell_type": "markdown",
   "metadata": {
    "id": "liOZPAKSPzwq"
   },
   "source": [
    "**4. Write a program to implement these formulae of permutations and combinations. \n",
    "Number of permutations of n objects taken r at a time: p(n, r) = n! / (n-r)!. Number of combinations of n objects taken r at a time is: c(n, r) = n! / (r!*(n-r)!) = p(n,r) / r!**"
   ]
  },
  {
   "cell_type": "code",
   "execution_count": 6,
   "metadata": {
    "colab": {
     "base_uri": "https://localhost:8080/"
    },
    "id": "r3OtARTKnfD7",
    "outputId": "2b425c2e-6f32-489b-9fc0-120f597a75b6"
   },
   "outputs": [
    {
     "name": "stdout",
     "output_type": "stream",
     "text": [
      "Enter the total number of objects n: 6\n",
      "Enter the total number of objects r taken at a time: 4\n",
      "\n",
      "The number of Permutations are 360 and the number of Combinations are 15 for a total of 6 objects taken 4 at a time.\n"
     ]
    }
   ],
   "source": [
    "def factorial_formula(x):\n",
    "    product = 1 \n",
    "    for i in range(1,x+1):\n",
    "        product = product * i\n",
    "    return product\n",
    "\n",
    "n = int(input(\"Enter the total number of objects n: \"))                  \n",
    "r = int(input(\"Enter the total number of objects r taken at a time: \"))\n",
    "\n",
    "if n < 0 or r < 0:\n",
    "    print(\"Please enter a positive number\") \n",
    "elif n >= r:\n",
    "    Permutation_p = int(factorial_formula(n) / factorial_formula(n-r))\n",
    "    Combination_c = int(Permutation_p / factorial_formula(r))\n",
    "    print(\"\\nThe number of Permutations are {2} and the number of Combinations are {3} for a total of {0} objects taken {1} at a time.\".format(n,r,Permutation_p,Combination_c))\n",
    "else:\n",
    "    print(\"\\nThe number of objects taken at a time cannot be more than the total number of objects\")"
   ]
  },
  {
   "cell_type": "markdown",
   "metadata": {
    "id": "ZfDdVtAqYOt9"
   },
   "source": [
    "**5. Write a function that converts a decimal number to binary number**"
   ]
  },
  {
   "cell_type": "code",
   "execution_count": 7,
   "metadata": {
    "id": "GQP9m_n0Wtkm"
   },
   "outputs": [],
   "source": [
    "def dec_to_bin(num):\n",
    "    l1 = []\n",
    "    while num > 0:\n",
    "        b = num % 2; num = num // 2\n",
    "        l1.append(b)\n",
    "    l1.reverse()\n",
    "    return l1"
   ]
  },
  {
   "cell_type": "code",
   "execution_count": 8,
   "metadata": {
    "colab": {
     "base_uri": "https://localhost:8080/"
    },
    "id": "FID-ZMomkN18",
    "outputId": "45f1d2ad-809f-441f-ea99-864529e58fa5"
   },
   "outputs": [
    {
     "name": "stdout",
     "output_type": "stream",
     "text": [
      "Enter a positive number: 29\n",
      "The binary equivalent of 29 is [1, 1, 1, 0, 1]\n"
     ]
    }
   ],
   "source": [
    "# Code only written for a positive number to be converted into binary\n",
    "try:\n",
    "    a = int(input(\"Enter a positive number: \"))\n",
    "    if a <= 0:\n",
    "        raise ValueError(\"Error: Entered a negative number\")\n",
    "    else:\n",
    "        print(\"The binary equivalent of {} is {}\".format(a,dec_to_bin(a)))\n",
    "except ValueError as e:\n",
    "    print(e)"
   ]
  },
  {
   "cell_type": "markdown",
   "metadata": {
    "id": "wEWL3no8P7Bx"
   },
   "source": [
    "**6. Write a function cubesum() that accepts an integer and returns the sum of the cubes of individual digits of that number.**\n",
    "\n",
    "**Use this function to make functions PrintArmstrong() and isArmstrong() to print Armstrong numbers and to find whether is an Armstrong number.**"
   ]
  },
  {
   "cell_type": "code",
   "execution_count": 9,
   "metadata": {
    "id": "Vtqd20xwEcG_"
   },
   "outputs": [],
   "source": [
    "def cubesum(a):\n",
    "    b = str(a)\n",
    "    i = 0\n",
    "    sum_cubes = 0\n",
    "    while i < len(b):\n",
    "        x = int(b[i])**3\n",
    "        sum_cubes = sum_cubes + x\n",
    "        i+=1\n",
    "    return sum_cubes"
   ]
  },
  {
   "cell_type": "code",
   "execution_count": 10,
   "metadata": {
    "colab": {
     "base_uri": "https://localhost:8080/"
    },
    "id": "InBTy1x1GQ_Q",
    "outputId": "38f42ffa-65ff-43b0-abfb-fe6a7f4f694a"
   },
   "outputs": [
    {
     "name": "stdout",
     "output_type": "stream",
     "text": [
      "Enter a positive integer: 345\n",
      "The sum of cubes of individual digits of 345 is 216\n"
     ]
    }
   ],
   "source": [
    "try:\n",
    "    num = int(input(\"Enter a positive integer: \"))\n",
    "    if num <= 0:\n",
    "        raise ValueError(\"Error: Entered negative integer\")\n",
    "    else:\n",
    "        print(\"The sum of cubes of individual digits of {0} is {1}\".format(num,cubesum(num)))\n",
    "except ValueError as e:\n",
    "    print(e)"
   ]
  },
  {
   "cell_type": "markdown",
   "metadata": {
    "id": "3aEw45_KQCrY"
   },
   "source": [
    "**7. Write a function prodDigits() that inputs a number and returns the product of digits of that number.**"
   ]
  },
  {
   "cell_type": "code",
   "execution_count": 11,
   "metadata": {
    "id": "di4jdr3GOP1A"
   },
   "outputs": [],
   "source": [
    "def prodDigits(a):\n",
    "    x = abs(a)\n",
    "    b = str(x)\n",
    "    i = 0                                   \n",
    "    product = 1\n",
    "    while i < len(b):\n",
    "        product *= int(b[i])\n",
    "        i+=1\n",
    "    print(\"The product of the digits of {0} is {1}\".format(x,product))"
   ]
  },
  {
   "cell_type": "code",
   "execution_count": 12,
   "metadata": {
    "colab": {
     "base_uri": "https://localhost:8080/"
    },
    "id": "2PdI7ovMHfDc",
    "outputId": "1431407c-632b-4369-cd24-5b154a00adf0"
   },
   "outputs": [
    {
     "name": "stdout",
     "output_type": "stream",
     "text": [
      "Enter a number:86\n",
      "The product of the digits of 86 is 48\n"
     ]
    }
   ],
   "source": [
    "num = int(input(\"Enter a number:\"))\n",
    "prodDigits(num)"
   ]
  },
  {
   "cell_type": "markdown",
   "metadata": {
    "id": "hSBlhhEVQHCW"
   },
   "source": [
    "**8. If all digits of a number n are multiplied by each other repeating with the product, the one digit number obtained at last is called the multiplicative digital root of n. The number of times digits need to be multiplied to reach one digit is called the multiplicative persistance of n. \n",
    "Example: 86 -> 48 -> 32 -> 6 (MDR 6, MPersistence 3)\n",
    " 341 -> 12->2 (MDR 2, MPersistence 2)\n",
    "Using the function prodDigits() of previous exercise write functions MDR() and \n",
    "MPersistence() that input a number and return its multiplicative digital root and multiplicative persistence respectively**"
   ]
  },
  {
   "cell_type": "code",
   "execution_count": 13,
   "metadata": {
    "id": "3ca90p6p17f2"
   },
   "outputs": [],
   "source": [
    "def prodDigits(a):\n",
    "    b = str(a)\n",
    "    i = 0\n",
    "    product = 1\n",
    "    while i < len(b):               \n",
    "        product *= int(b[i])\n",
    "        i+=1\n",
    "    return product"
   ]
  },
  {
   "cell_type": "code",
   "execution_count": 14,
   "metadata": {
    "id": "OuoIcNvVrnhA"
   },
   "outputs": [],
   "source": [
    "def MDR(b):\n",
    "    while len(str(b)) > 1:\n",
    "        b = prodDigits(b)\n",
    "    print(\"The Multiplicative Digital Root of {0} is {1}\".format(num,b))"
   ]
  },
  {
   "cell_type": "code",
   "execution_count": 15,
   "metadata": {
    "id": "L58ivrseu95Q"
   },
   "outputs": [],
   "source": [
    "# This function is not needed and can be merged with MDR() to get both the results and save the computation time\n",
    "def MPersistence(c):\n",
    "    count = 0\n",
    "    while len(str(c)) > 1:                   \n",
    "        c = prodDigits(c)\n",
    "        count += 1\n",
    "    print(\"The Multiplicative Persistence of {0} is {1}\".format(num,count))"
   ]
  },
  {
   "cell_type": "code",
   "execution_count": 16,
   "metadata": {
    "colab": {
     "base_uri": "https://localhost:8080/"
    },
    "id": "bM1lphifl83c",
    "outputId": "d1bcf1a8-89b5-4028-89e4-6b1ba14ad1f1"
   },
   "outputs": [
    {
     "name": "stdout",
     "output_type": "stream",
     "text": [
      "Enter a positive number:86\n",
      "The Multiplicative Digital Root of 86 is 6\n",
      "The Multiplicative Persistence of 86 is 3\n"
     ]
    }
   ],
   "source": [
    "num = int(input(\"Enter a positive number:\"))\n",
    "MDR(num)\n",
    "MPersistence(num)"
   ]
  },
  {
   "cell_type": "markdown",
   "metadata": {
    "id": "8ooM_-MVQHJd"
   },
   "source": [
    "**9. Write a function sumPdivisors() that finds the sum of proper divisors of a number. Proper divisors of a number are those numbers by which the number is divisible, except the number itself. For example proper divisors of 36 are 1, 2, 3, 4, 6, 9, 18**"
   ]
  },
  {
   "cell_type": "code",
   "execution_count": 17,
   "metadata": {
    "colab": {
     "base_uri": "https://localhost:8080/"
    },
    "id": "wqKPlEgq5ylx",
    "outputId": "a2d171d6-a001-4346-e3cb-166d4b64f1b4"
   },
   "outputs": [
    {
     "name": "stdout",
     "output_type": "stream",
     "text": [
      "Enter a number: 36\n",
      "The proper divisors of 36 are [1, 2, 3, 4, 6, 9, 12, 18] and the sum of these divisors is 55\n"
     ]
    }
   ],
   "source": [
    "def sumPdivisors(num):\n",
    "    num1 = abs(num)\n",
    "    lst = []\n",
    "    i = 1;\n",
    "    while i < num1:\n",
    "        if num1 % i == 0:            \n",
    "            lst.append(i)\n",
    "        i +=1;\n",
    "    print(\"The proper divisors of {0} are {1} and the sum of these divisors is {2}\" .format(num1,lst,sum(lst)))\n",
    "\n",
    "a = int(input(\"Enter a number: \"))\n",
    "sumPdivisors(a)"
   ]
  },
  {
   "cell_type": "markdown",
   "metadata": {
    "id": "jWG_J_3CQQx-"
   },
   "source": [
    "###### **10. A number is called perfect if the sum of proper divisors of that number is equal to the number. For example 28 is perfect number, since 1+2+4+7+14=28. Write a program to print all the perfect numbers in a given range**"
   ]
  },
  {
   "cell_type": "code",
   "execution_count": 18,
   "metadata": {
    "colab": {
     "base_uri": "https://localhost:8080/"
    },
    "id": "wcqKlXZmUoBH",
    "outputId": "d9575d1d-bfd3-42d7-bdb6-b58501411253"
   },
   "outputs": [
    {
     "name": "stdout",
     "output_type": "stream",
     "text": [
      "Enter the starting number for a range: 0\n",
      "Enter the ending number for a range: 100\n",
      "[0, 6, 28]\n"
     ]
    }
   ],
   "source": [
    "num1 = int(input(\"Enter the starting number for a range: \"))\n",
    "num2 = int(input(\"Enter the ending number for a range: \"))\n",
    "\n",
    "lst2 = []\n",
    "for num in range(num1, num2 + 1):\n",
    "    i = 1\n",
    "    lst1 = []\n",
    "    for var in range(i, num):\n",
    "        i < num\n",
    "        if num % i == 0:\n",
    "            lst1.append(i)\n",
    "        i +=1\n",
    "    sum_lst = (sum(lst1))\n",
    "    if sum_lst == num:\n",
    "        lst2.append(num)\n",
    "print(lst2)"
   ]
  },
  {
   "cell_type": "markdown",
   "metadata": {
    "id": "3DrMlVUXQSR2"
   },
   "source": [
    "**11. Two different numbers are called amicable numbers if the sum of the proper divisors of each is equal to the other number. For example 220 and 284 are amicable numbers. Sum of proper divisors of 220 = 1+2+4+5+10+11+20+22+44+55+110 = 284. Sum of proper divisors of 284 = 1+2+4+71+142 = 220. Write a function to print pairs of amicable numbers in a range**"
   ]
  },
  {
   "cell_type": "code",
   "execution_count": 19,
   "metadata": {
    "id": "Uwf1JC4e2xIl"
   },
   "outputs": [],
   "source": [
    "def sumPdivisors(num):\n",
    "    num1 = abs(num)\n",
    "    lst = []\n",
    "    i = 1;\n",
    "    while i < num1:\n",
    "        if num1 % i == 0:            \n",
    "            lst.append(i)\n",
    "        i +=1;\n",
    "    return sum(lst)"
   ]
  },
  {
   "cell_type": "code",
   "execution_count": 20,
   "metadata": {
    "id": "g8ulmhZqPsay"
   },
   "outputs": [],
   "source": [
    "def amicable_numbers(num1,num2):\n",
    "    lst = []\n",
    "    for i in range(num1, num2 +1):\n",
    "        result = sumPdivisors(i)\n",
    "        if sumPdivisors(result) == i:\n",
    "            tup = (i,result)\n",
    "            lst.append(tup)\n",
    "        i += 1\n",
    "    print(\"\\nThe pair of amicable numbers are: {}\" .format(lst))"
   ]
  },
  {
   "cell_type": "code",
   "execution_count": 21,
   "metadata": {
    "colab": {
     "base_uri": "https://localhost:8080/"
    },
    "id": "oPv0KEKv5JCe",
    "outputId": "b443f09f-0555-498a-9233-4a1583e21a7f"
   },
   "outputs": [
    {
     "name": "stdout",
     "output_type": "stream",
     "text": [
      "Enter the starting number for a range: 200\n",
      "Enter the ending number for a range: 300\n",
      "\n",
      "The pair of amicable numbers are: [(220, 284), (284, 220)]\n"
     ]
    }
   ],
   "source": [
    "a = int(input(\"Enter the starting number for a range: \"))\n",
    "b = int(input(\"Enter the ending number for a range: \"))\n",
    "amicable_numbers(a,b)"
   ]
  },
  {
   "cell_type": "markdown",
   "metadata": {
    "id": "l6XrP6VFLVkt"
   },
   "source": [
    "**12. Write a program which can filter odd numbers in a list by using filter function**"
   ]
  },
  {
   "cell_type": "code",
   "execution_count": 22,
   "metadata": {
    "colab": {
     "base_uri": "https://localhost:8080/"
    },
    "id": "Z8YQ0E2HmgAv",
    "outputId": "3c035f70-6908-4aa4-d317-cc5f06e75b5b"
   },
   "outputs": [
    {
     "name": "stdout",
     "output_type": "stream",
     "text": [
      "[1, 3, 5, 7, 9, 11]\n"
     ]
    }
   ],
   "source": [
    "a_lst = [1,2,3,4,5,6,7,8,9,10,11]\n",
    "\n",
    "odd_lst = list(filter(lambda x: (x % 2 != 0), a_lst))\n",
    "print(odd_lst)"
   ]
  },
  {
   "cell_type": "markdown",
   "metadata": {
    "id": "XXAhCS2KQ1vz"
   },
   "source": [
    "**13. Write a program which can map() to make a list whose elements are cube of elements in a given list**"
   ]
  },
  {
   "cell_type": "code",
   "execution_count": 23,
   "metadata": {
    "colab": {
     "base_uri": "https://localhost:8080/"
    },
    "id": "IfSM49uvK_Xj",
    "outputId": "9029b769-8770-4ba2-c6b6-77dcb61bd9af"
   },
   "outputs": [
    {
     "name": "stdout",
     "output_type": "stream",
     "text": [
      "[1, 8, 27, 64, 125, 216, 343, 512, 729, 1000]\n"
     ]
    }
   ],
   "source": [
    "numbers = [1,2,3,4,5,6,7,8,9,10]\n",
    "\n",
    "def powerOfThree(num):\n",
    "    return num**3\n",
    "\n",
    "cubed = list(map(powerOfThree, numbers))\n",
    "print(cubed)"
   ]
  },
  {
   "cell_type": "markdown",
   "metadata": {
    "id": "4FJQLgebQ5DS"
   },
   "source": [
    "**14. Write a program which can map() and filter() to make a list whose elements are cube of even number in a given list**"
   ]
  },
  {
   "cell_type": "code",
   "execution_count": 24,
   "metadata": {
    "colab": {
     "base_uri": "https://localhost:8080/"
    },
    "id": "lf2XltpzOhGx",
    "outputId": "0e763219-ad3b-4809-d55a-c126c61006fa"
   },
   "outputs": [
    {
     "name": "stdout",
     "output_type": "stream",
     "text": [
      "[8, 64, 216, 512, 1000]\n"
     ]
    }
   ],
   "source": [
    "numbers = [1,2,3,4,5,6,7,8,9,10]\n",
    "\n",
    "def powerOfThree(num):\n",
    "    return num**3\n",
    "\n",
    "even_lst = list(filter(lambda x: (x % 2 == 0), numbers))\n",
    "\n",
    "even_cubed = list(map(powerOfThree, even_lst))\n",
    "print(even_cubed)"
   ]
  }
 ],
 "metadata": {
  "colab": {
   "collapsed_sections": [],
   "name": "1. Practice_Questions_On_Functions.ipynb",
   "provenance": []
  },
  "kernelspec": {
   "display_name": "Python 3",
   "language": "python",
   "name": "python3"
  },
  "language_info": {
   "codemirror_mode": {
    "name": "ipython",
    "version": 3
   },
   "file_extension": ".py",
   "mimetype": "text/x-python",
   "name": "python",
   "nbconvert_exporter": "python",
   "pygments_lexer": "ipython3",
   "version": "3.8.3"
  }
 },
 "nbformat": 4,
 "nbformat_minor": 1
}
